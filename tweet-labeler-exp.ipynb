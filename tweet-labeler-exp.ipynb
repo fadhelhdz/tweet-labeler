{
 "cells": [
  {
   "cell_type": "code",
   "execution_count": 10,
   "metadata": {},
   "outputs": [],
   "source": [
    "import json\n",
    "import openai\n",
    "import pandas as pd\n",
    "from tqdm import tqdm\n",
    "import time\n",
    "from dotenv import load_dotenv\n",
    "import os"
   ]
  },
  {
   "cell_type": "code",
   "execution_count": 11,
   "metadata": {},
   "outputs": [],
   "source": [
    "# Load environment variables\n",
    "load_dotenv()\n",
    "\n",
    "# Update API key setting\n",
    "openai.api_key = os.getenv('OPENAI_API_KEY')"
   ]
  },
  {
   "cell_type": "code",
   "execution_count": 12,
   "metadata": {},
   "outputs": [],
   "source": [
    "def load_tweets(file_path):\n",
    "    with open(file_path, 'r', encoding='utf-8') as f:\n",
    "        tweets = json.load(f)\n",
    "    return tweets"
   ]
  },
  {
   "cell_type": "code",
   "execution_count": 13,
   "metadata": {},
   "outputs": [],
   "source": [
    "def analyze_sentiment(text):\n",
    "    try:\n",
    "        response = openai.chat.completions.create(\n",
    "            model=\"gpt-4o\",\n",
    "            messages=[\n",
    "                {\"role\": \"system\", \"content\": \"You are a sentiment analyzer for Bahasa Indonesia. Classify the following text as POSITIVE, NEGATIVE, or NEUTRAL. Only respond with one of these three words.\"},\n",
    "                {\"role\": \"user\", \"content\": text}\n",
    "            ],\n",
    "            temperature=0\n",
    "        )\n",
    "        return response.choices[0].message.content.strip()\n",
    "    except Exception as e:\n",
    "        print(f\"Error analyzing sentiment: {e}\")\n",
    "        time.sleep(20)  # Wait if we hit rate limits\n",
    "        return \"NEUTRAL\"  # Default fallback"
   ]
  },
  {
   "cell_type": "code",
   "execution_count": 14,
   "metadata": {},
   "outputs": [],
   "source": [
    "tweets = [\n",
    "    {\n",
    "        \"tweet_count\": 1,\n",
    "        \"unique_id\": \"azwar6102\",\n",
    "        \"username\": \"Azwar Rozali\",\n",
    "        \"text\": \"Sebenarnya presiden Prabowo tidak perlu banyak bicara, yang dibutuhkan rakyat aksi nyata. Menaikkan PPN, menaikkan pajak kendaraan bermotor, menaikkan gaji honorer Rp 500ribu tidak perlu 100 hari. Kenapa kasus-kasus lain diabaikan, pengesahan RUU rampas aset presiden diam.\",\n",
    "        \"hashtags\": [],\n",
    "        \"created_at\": \"2025-01-01 03:26:45\",\n",
    "        \"retweet_count\": 0,\n",
    "        \"favorite_count\": 0,\n",
    "        \"reply_count\": 0,\n",
    "        \"image_paths\": []\n",
    "    },\n",
    "    {\n",
    "        \"tweet_count\": 2,\n",
    "        \"unique_id\": \"B_dzoel\",\n",
    "        \"username\": \"°Bang_Dzoel°\",\n",
    "        \"text\": \"Hadiah 100 hari kerja kabinet Merah-Putih @prabowo\\n\\n1. PPN 12%\\n2. Daun kelor pengganti Susu\\n3. Judol Peringkat Tertinggi Dunia\\n4. Memaafkan Koruptor\\n5.\\n6.\\n7.\\n\\nMenuju Indonesia Emas\\nJayalah Indonesiaku\\n\\n#100HariKabinetOmon \\n\\n. https://t.co/AIvUpH6PSu\",\n",
    "        \"hashtags\": [\n",
    "            \"100HariKabinetOmon\"\n",
    "        ],\n",
    "        \"created_at\": \"2025-01-01 01:34:19\",\n",
    "        \"retweet_count\": 12,\n",
    "        \"favorite_count\": 28,\n",
    "        \"reply_count\": 5,\n",
    "        \"image_paths\": [\n",
    "            \"C:\\\\Users\\\\hariz\\\\projects\\\\tweet_scraping\\\\images\\\\media_2_0.jpg\"\n",
    "        ]\n",
    "    },\n",
    "    {\n",
    "        \"tweet_count\": 3,\n",
    "        \"unique_id\": \"RiskyDeswandi\",\n",
    "        \"username\": \"riskydeswandi28\",\n",
    "        \"text\": \"H-19, penilaian 100 Hari Kerja Pemerintahan Republik Indonesia Kabinet Merah Putih.\\n#prabowo\",\n",
    "        \"hashtags\": [\n",
    "            \"prabowo\"\n",
    "        ],\n",
    "        \"created_at\": \"2025-01-01 00:17:07\",\n",
    "        \"retweet_count\": 0,\n",
    "        \"favorite_count\": 0,\n",
    "        \"reply_count\": 0,\n",
    "        \"image_paths\": []\n",
    "    },\n",
    "    {\n",
    "        \"tweet_count\": 4,\n",
    "        \"unique_id\": \"AlimyFikri\",\n",
    "        \"username\": \"Singgih\",\n",
    "        \"text\": \"@Dennysiregar7 Baru belum 100 hari sdh bosan sama Prabowo bang @Dennysiregar7 , apa minta diganti bang?\",\n",
    "        \"hashtags\": [],\n",
    "        \"created_at\": \"2025-01-01 13:15:48\",\n",
    "        \"retweet_count\": 0,\n",
    "        \"favorite_count\": 0,\n",
    "        \"reply_count\": 0,\n",
    "        \"image_paths\": []\n",
    "    },\n",
    "    {\n",
    "        \"tweet_count\": 5,\n",
    "        \"unique_id\": \"DitriRizki_D3\",\n",
    "        \"username\": \"dit_RI\",\n",
    "        \"text\": \"@Mdy_Asmara1701 Blunder Pak Prabowo kok bisa milih dia jadi menteri… nilai 11/100 lagi buat pak Prabowo menuju masa habis 100 hari kerja pertama rezim Prabowo…  mau menangis kok Indonesia dibuat main2 sama penguasa, pendukung &amp; oligarki…\",\n",
    "        \"hashtags\": [],\n",
    "        \"created_at\": \"2025-01-01 23:56:41\",\n",
    "        \"retweet_count\": 0,\n",
    "        \"favorite_count\": 9,\n",
    "        \"reply_count\": 1,\n",
    "        \"image_paths\": []\n",
    "    }\n",
    "]"
   ]
  },
  {
   "cell_type": "code",
   "execution_count": 15,
   "metadata": {},
   "outputs": [
    {
     "name": "stderr",
     "output_type": "stream",
     "text": [
      "Analyzing tweets:   0%|          | 0/5 [00:00<?, ?it/s]"
     ]
    },
    {
     "name": "stderr",
     "output_type": "stream",
     "text": [
      "Analyzing tweets: 100%|██████████| 5/5 [00:06<00:00,  1.29s/it]"
     ]
    },
    {
     "name": "stdout",
     "output_type": "stream",
     "text": [
      "Tweets updated with sentiment analysis\n"
     ]
    },
    {
     "name": "stderr",
     "output_type": "stream",
     "text": [
      "\n"
     ]
    }
   ],
   "source": [
    "# Load tweets\n",
    "tweets = load_tweets('tweets.json')\n",
    "\n",
    "# Create a list to store results\n",
    "results = []\n",
    "\n",
    "# Process each tweet\n",
    "for tweet in tqdm(tweets, desc=\"Analyzing tweets\"):\n",
    "    sentiment = analyze_sentiment(tweet['text'])\n",
    "    tweet['sentiment'] = sentiment  # Add sentiment directly to tweet object\n",
    "    time.sleep(0.5)\n",
    "\n",
    "# Save updated tweets back to the original file\n",
    "with open('tweets.json', 'w', encoding='utf-8') as f:\n",
    "    json.dump(tweets, f, ensure_ascii=False, indent=4)\n",
    "\n",
    "print(\"Tweets updated with sentiment analysis\")\n",
    "\n",
    "    "
   ]
  },
  {
   "cell_type": "code",
   "execution_count": null,
   "metadata": {},
   "outputs": [],
   "source": []
  }
 ],
 "metadata": {
  "kernelspec": {
   "display_name": "Python 3",
   "language": "python",
   "name": "python3"
  },
  "language_info": {
   "codemirror_mode": {
    "name": "ipython",
    "version": 3
   },
   "file_extension": ".py",
   "mimetype": "text/x-python",
   "name": "python",
   "nbconvert_exporter": "python",
   "pygments_lexer": "ipython3",
   "version": "3.10.16"
  }
 },
 "nbformat": 4,
 "nbformat_minor": 2
}
