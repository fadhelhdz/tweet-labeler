{
 "cells": [
  {
   "cell_type": "code",
   "execution_count": 24,
   "metadata": {},
   "outputs": [],
   "source": [
    "import json\n",
    "import pandas as pd\n",
    "import matplotlib.pyplot as plt\n",
    "import seaborn as sns\n",
    "from sklearn.metrics import confusion_matrix, classification_report, accuracy_score"
   ]
  },
  {
   "cell_type": "code",
   "execution_count": null,
   "metadata": {},
   "outputs": [],
   "source": [
    "# Load the json files\n",
    "with open('tweets_manual_labelling.json', 'r', encoding='utf-8') as f:\n",
    "    tweets_manual = json.load(f)\n",
    "with open('tweets.json', 'r', encoding='utf-8') as f:\n",
    "    tweets_auto = json.load(f)\n",
    "\n",
    "# Create DataFrames for easier comparison\n",
    "manual_df = pd.DataFrame(tweets_manual)\n",
    "auto_df = pd.DataFrame(tweets_auto)"
   ]
  },
  {
   "cell_type": "code",
   "execution_count": 8,
   "metadata": {},
   "outputs": [
    {
     "data": {
      "text/html": [
       "<div>\n",
       "<style scoped>\n",
       "    .dataframe tbody tr th:only-of-type {\n",
       "        vertical-align: middle;\n",
       "    }\n",
       "\n",
       "    .dataframe tbody tr th {\n",
       "        vertical-align: top;\n",
       "    }\n",
       "\n",
       "    .dataframe thead th {\n",
       "        text-align: right;\n",
       "    }\n",
       "</style>\n",
       "<table border=\"1\" class=\"dataframe\">\n",
       "  <thead>\n",
       "    <tr style=\"text-align: right;\">\n",
       "      <th></th>\n",
       "      <th>tweet_count</th>\n",
       "      <th>unique_id</th>\n",
       "      <th>username</th>\n",
       "      <th>text</th>\n",
       "      <th>hashtags</th>\n",
       "      <th>created_at</th>\n",
       "      <th>retweet_count</th>\n",
       "      <th>favorite_count</th>\n",
       "      <th>reply_count</th>\n",
       "      <th>image_paths</th>\n",
       "      <th>sentiment</th>\n",
       "    </tr>\n",
       "  </thead>\n",
       "  <tbody>\n",
       "    <tr>\n",
       "      <th>0</th>\n",
       "      <td>1</td>\n",
       "      <td>azwar6102</td>\n",
       "      <td>Azwar Rozali</td>\n",
       "      <td>Sebenarnya presiden Prabowo tidak perlu banyak...</td>\n",
       "      <td>[]</td>\n",
       "      <td>2025-01-01 03:26:45</td>\n",
       "      <td>0</td>\n",
       "      <td>0</td>\n",
       "      <td>0</td>\n",
       "      <td>[]</td>\n",
       "      <td>Negative</td>\n",
       "    </tr>\n",
       "    <tr>\n",
       "      <th>1</th>\n",
       "      <td>2</td>\n",
       "      <td>B_dzoel</td>\n",
       "      <td>°Bang_Dzoel°</td>\n",
       "      <td>Hadiah 100 hari kerja kabinet Merah-Putih @pra...</td>\n",
       "      <td>[100HariKabinetOmon]</td>\n",
       "      <td>2025-01-01 01:34:19</td>\n",
       "      <td>12</td>\n",
       "      <td>28</td>\n",
       "      <td>5</td>\n",
       "      <td>[C:\\Users\\hariz\\projects\\tweet_scraping\\images...</td>\n",
       "      <td>Negative</td>\n",
       "    </tr>\n",
       "    <tr>\n",
       "      <th>2</th>\n",
       "      <td>3</td>\n",
       "      <td>RiskyDeswandi</td>\n",
       "      <td>riskydeswandi28</td>\n",
       "      <td>H-19, penilaian 100 Hari Kerja Pemerintahan Re...</td>\n",
       "      <td>[prabowo]</td>\n",
       "      <td>2025-01-01 00:17:07</td>\n",
       "      <td>0</td>\n",
       "      <td>0</td>\n",
       "      <td>0</td>\n",
       "      <td>[]</td>\n",
       "      <td>Neutral</td>\n",
       "    </tr>\n",
       "    <tr>\n",
       "      <th>3</th>\n",
       "      <td>4</td>\n",
       "      <td>AlimyFikri</td>\n",
       "      <td>Singgih</td>\n",
       "      <td>@Dennysiregar7 Baru belum 100 hari sdh bosan s...</td>\n",
       "      <td>[]</td>\n",
       "      <td>2025-01-01 13:15:48</td>\n",
       "      <td>0</td>\n",
       "      <td>0</td>\n",
       "      <td>0</td>\n",
       "      <td>[]</td>\n",
       "      <td>Negative</td>\n",
       "    </tr>\n",
       "    <tr>\n",
       "      <th>4</th>\n",
       "      <td>5</td>\n",
       "      <td>DitriRizki_D3</td>\n",
       "      <td>dit_RI</td>\n",
       "      <td>@Mdy_Asmara1701 Blunder Pak Prabowo kok bisa m...</td>\n",
       "      <td>[]</td>\n",
       "      <td>2025-01-01 23:56:41</td>\n",
       "      <td>0</td>\n",
       "      <td>9</td>\n",
       "      <td>1</td>\n",
       "      <td>[]</td>\n",
       "      <td>Negative</td>\n",
       "    </tr>\n",
       "  </tbody>\n",
       "</table>\n",
       "</div>"
      ],
      "text/plain": [
       "   tweet_count      unique_id         username  \\\n",
       "0            1      azwar6102     Azwar Rozali   \n",
       "1            2        B_dzoel     °Bang_Dzoel°   \n",
       "2            3  RiskyDeswandi  riskydeswandi28   \n",
       "3            4     AlimyFikri          Singgih   \n",
       "4            5  DitriRizki_D3           dit_RI   \n",
       "\n",
       "                                                text              hashtags  \\\n",
       "0  Sebenarnya presiden Prabowo tidak perlu banyak...                    []   \n",
       "1  Hadiah 100 hari kerja kabinet Merah-Putih @pra...  [100HariKabinetOmon]   \n",
       "2  H-19, penilaian 100 Hari Kerja Pemerintahan Re...             [prabowo]   \n",
       "3  @Dennysiregar7 Baru belum 100 hari sdh bosan s...                    []   \n",
       "4  @Mdy_Asmara1701 Blunder Pak Prabowo kok bisa m...                    []   \n",
       "\n",
       "            created_at  retweet_count  favorite_count  reply_count  \\\n",
       "0  2025-01-01 03:26:45              0               0            0   \n",
       "1  2025-01-01 01:34:19             12              28            5   \n",
       "2  2025-01-01 00:17:07              0               0            0   \n",
       "3  2025-01-01 13:15:48              0               0            0   \n",
       "4  2025-01-01 23:56:41              0               9            1   \n",
       "\n",
       "                                         image_paths sentiment  \n",
       "0                                                 []  Negative  \n",
       "1  [C:\\Users\\hariz\\projects\\tweet_scraping\\images...  Negative  \n",
       "2                                                 []   Neutral  \n",
       "3                                                 []  Negative  \n",
       "4                                                 []  Negative  "
      ]
     },
     "execution_count": 8,
     "metadata": {},
     "output_type": "execute_result"
    }
   ],
   "source": [
    "manual_df.head()"
   ]
  },
  {
   "cell_type": "code",
   "execution_count": 17,
   "metadata": {},
   "outputs": [],
   "source": [
    "# Ensure we're comparing the same tweets by matching on unique_id\n",
    "merged_df = pd.merge(\n",
    "    manual_df[['tweet_count', 'unique_id', 'text', 'sentiment']], \n",
    "    auto_df[['tweet_count', 'sentiment']], \n",
    "    on='tweet_count', \n",
    "    suffixes=('_manual', '_auto')\n",
    ")"
   ]
  },
  {
   "cell_type": "code",
   "execution_count": 18,
   "metadata": {},
   "outputs": [
    {
     "data": {
      "text/html": [
       "<div>\n",
       "<style scoped>\n",
       "    .dataframe tbody tr th:only-of-type {\n",
       "        vertical-align: middle;\n",
       "    }\n",
       "\n",
       "    .dataframe tbody tr th {\n",
       "        vertical-align: top;\n",
       "    }\n",
       "\n",
       "    .dataframe thead th {\n",
       "        text-align: right;\n",
       "    }\n",
       "</style>\n",
       "<table border=\"1\" class=\"dataframe\">\n",
       "  <thead>\n",
       "    <tr style=\"text-align: right;\">\n",
       "      <th></th>\n",
       "      <th>tweet_count</th>\n",
       "      <th>unique_id</th>\n",
       "      <th>text</th>\n",
       "      <th>sentiment_manual</th>\n",
       "      <th>sentiment_auto</th>\n",
       "    </tr>\n",
       "  </thead>\n",
       "  <tbody>\n",
       "    <tr>\n",
       "      <th>0</th>\n",
       "      <td>1</td>\n",
       "      <td>azwar6102</td>\n",
       "      <td>Sebenarnya presiden Prabowo tidak perlu banyak...</td>\n",
       "      <td>Negative</td>\n",
       "      <td>Neutral</td>\n",
       "    </tr>\n",
       "    <tr>\n",
       "      <th>1</th>\n",
       "      <td>2</td>\n",
       "      <td>B_dzoel</td>\n",
       "      <td>Hadiah 100 hari kerja kabinet Merah-Putih @pra...</td>\n",
       "      <td>Negative</td>\n",
       "      <td>Neutral</td>\n",
       "    </tr>\n",
       "    <tr>\n",
       "      <th>2</th>\n",
       "      <td>3</td>\n",
       "      <td>RiskyDeswandi</td>\n",
       "      <td>H-19, penilaian 100 Hari Kerja Pemerintahan Re...</td>\n",
       "      <td>Neutral</td>\n",
       "      <td>Neutral</td>\n",
       "    </tr>\n",
       "    <tr>\n",
       "      <th>3</th>\n",
       "      <td>4</td>\n",
       "      <td>AlimyFikri</td>\n",
       "      <td>@Dennysiregar7 Baru belum 100 hari sdh bosan s...</td>\n",
       "      <td>Negative</td>\n",
       "      <td>Negative</td>\n",
       "    </tr>\n",
       "    <tr>\n",
       "      <th>4</th>\n",
       "      <td>5</td>\n",
       "      <td>DitriRizki_D3</td>\n",
       "      <td>@Mdy_Asmara1701 Blunder Pak Prabowo kok bisa m...</td>\n",
       "      <td>Negative</td>\n",
       "      <td>Neutral</td>\n",
       "    </tr>\n",
       "  </tbody>\n",
       "</table>\n",
       "</div>"
      ],
      "text/plain": [
       "   tweet_count      unique_id  \\\n",
       "0            1      azwar6102   \n",
       "1            2        B_dzoel   \n",
       "2            3  RiskyDeswandi   \n",
       "3            4     AlimyFikri   \n",
       "4            5  DitriRizki_D3   \n",
       "\n",
       "                                                text sentiment_manual  \\\n",
       "0  Sebenarnya presiden Prabowo tidak perlu banyak...         Negative   \n",
       "1  Hadiah 100 hari kerja kabinet Merah-Putih @pra...         Negative   \n",
       "2  H-19, penilaian 100 Hari Kerja Pemerintahan Re...          Neutral   \n",
       "3  @Dennysiregar7 Baru belum 100 hari sdh bosan s...         Negative   \n",
       "4  @Mdy_Asmara1701 Blunder Pak Prabowo kok bisa m...         Negative   \n",
       "\n",
       "  sentiment_auto  \n",
       "0        Neutral  \n",
       "1        Neutral  \n",
       "2        Neutral  \n",
       "3       Negative  \n",
       "4        Neutral  "
      ]
     },
     "execution_count": 18,
     "metadata": {},
     "output_type": "execute_result"
    }
   ],
   "source": [
    "merged_df.head()"
   ]
  },
  {
   "cell_type": "code",
   "execution_count": 15,
   "metadata": {},
   "outputs": [
    {
     "name": "stdout",
     "output_type": "stream",
     "text": [
      "Total tweets in manual labeling: 3696\n",
      "Total tweets in auto labeling: 3696\n",
      "Total matched tweets: 3696\n"
     ]
    }
   ],
   "source": [
    "print(f\"Total tweets in manual labeling: {len(manual_df)}\")\n",
    "print(f\"Total tweets in auto labeling: {len(auto_df)}\")\n",
    "print(f\"Total matched tweets: {len(merged_df)}\")"
   ]
  },
  {
   "cell_type": "code",
   "execution_count": 19,
   "metadata": {},
   "outputs": [
    {
     "name": "stdout",
     "output_type": "stream",
     "text": [
      "Agreement percentage: 22.97%\n"
     ]
    }
   ],
   "source": [
    "# Calculate agreement statistics\n",
    "agreement = (merged_df['sentiment_manual'] == merged_df['sentiment_auto']).mean() * 100\n",
    "print(f\"Agreement percentage: {agreement:.2f}%\")"
   ]
  },
  {
   "cell_type": "code",
   "execution_count": 20,
   "metadata": {},
   "outputs": [],
   "source": [
    "# Create confusion matrix\n",
    "labels = ['Negative', 'Neutral', 'Positive']\n",
    "cm = confusion_matrix(\n",
    "    merged_df['sentiment_manual'], \n",
    "    merged_df['sentiment_auto'],\n",
    "    labels=labels\n",
    ")"
   ]
  },
  {
   "cell_type": "code",
   "execution_count": 21,
   "metadata": {},
   "outputs": [
    {
     "name": "stdout",
     "output_type": "stream",
     "text": [
      "\n",
      "Classification Report:\n",
      "              precision    recall  f1-score   support\n",
      "\n",
      "    Negative       0.29      0.44      0.35      1209\n",
      "     Neutral       0.15      0.47      0.23       541\n",
      "    Positive       0.45      0.03      0.06      1946\n",
      "\n",
      "    accuracy                           0.23      3696\n",
      "   macro avg       0.29      0.31      0.21      3696\n",
      "weighted avg       0.35      0.23      0.18      3696\n",
      "\n"
     ]
    }
   ],
   "source": [
    "# Print classification report\n",
    "print(\"\\nClassification Report:\")\n",
    "print(classification_report(\n",
    "    merged_df['sentiment_manual'], \n",
    "    merged_df['sentiment_auto'],\n",
    "    labels=labels\n",
    "))"
   ]
  },
  {
   "cell_type": "code",
   "execution_count": 25,
   "metadata": {},
   "outputs": [
    {
     "data": {
      "image/png": "[encoded data removed]",
      "text/plain": [
       "<Figure size 1000x800 with 2 Axes>"
      ]
     },
     "metadata": {},
     "output_type": "display_data"
    }
   ],
   "source": [
    "# Visualize confusion matrix\n",
    "plt.figure(figsize=(10, 8))\n",
    "sns.heatmap(cm, annot=True, fmt='d', cmap='Blues', xticklabels=labels, yticklabels=labels)\n",
    "plt.xlabel('Predicted (Auto)')\n",
    "plt.ylabel('True (Manual)')\n",
    "plt.title('Confusion Matrix: Manual vs. Auto Sentiment')\n",
    "plt.savefig('c:/Users/hariz/projects/tweet-labeler/sentiment_confusion_matrix.png')"
   ]
  },
  {
   "cell_type": "code",
   "execution_count": 27,
   "metadata": {},
   "outputs": [
    {
     "name": "stdout",
     "output_type": "stream",
     "text": [
      "\n",
      "Total disagreements: 2847\n"
     ]
    }
   ],
   "source": [
    "# Analyze disagreements\n",
    "disagreements = merged_df[merged_df['sentiment_manual'] != merged_df['sentiment_auto']]\n",
    "print(f\"\\nTotal disagreements: {len(disagreements)}\")"
   ]
  },
  {
   "cell_type": "code",
   "execution_count": 28,
   "metadata": {},
   "outputs": [
    {
     "name": "stdout",
     "output_type": "stream",
     "text": [
      "\n",
      "Top disagreement patterns:\n",
      "     Manual      Auto  Count\n",
      "4  Positive  Negative   1053\n",
      "5  Positive   Neutral    826\n",
      "0  Negative   Neutral    611\n",
      "2   Neutral  Negative    274\n",
      "1  Negative  Positive     69\n",
      "3   Neutral  Positive     14\n"
     ]
    }
   ],
   "source": [
    "# Show distribution of disagreements\n",
    "disagreement_types = disagreements.groupby(['sentiment_manual', 'sentiment_auto']).size().reset_index()\n",
    "disagreement_types.columns = ['Manual', 'Auto', 'Count']\n",
    "disagreement_types = disagreement_types.sort_values('Count', ascending=False)\n",
    "print(\"\\nTop disagreement patterns:\")\n",
    "print(disagreement_types)"
   ]
  },
  {
   "cell_type": "code",
   "execution_count": 29,
   "metadata": {},
   "outputs": [
    {
     "name": "stdout",
     "output_type": "stream",
     "text": [
      "\n",
      "Sample of 10 disagreements for review:\n",
      "\n",
      "1. Tweet: Menurut ahli komunikasi politik prabowo menunjukkan inkonsisten di 100 hari kepemimpinannya.\n",
      "\n",
      "Kata A...\n",
      "   Manual: Negative, Auto: Positive\n",
      "\n",
      "2. Tweet: Presiden @prabowo mendapat \"Surat Cinta\" dari siswa SD berkat Makan Bergizi Gratis\n",
      "\n",
      "Hari pertama pro...\n",
      "   Manual: Positive, Auto: Negative\n",
      "\n",
      "3. Tweet: Kinerja 100 hari Prabowo-Gibran bikin bangga! Apresiasi tinggi dari masyarakat jadi bukti nyata #Kin...\n",
      "   Manual: Positive, Auto: Negative\n",
      "\n",
      "4. Tweet: @SBaigin @Boediantar4 @prabowo Hampir 100 hari pak lum kiatan .....\n",
      "   Manual: Negative, Auto: Neutral\n",
      "\n",
      "5. Tweet: Setelah dilantik dan 100 hari kerja presiden, Publik mempercayai 80% kinerja bapak @prabowo 🙏🏻\n",
      "Janga...\n",
      "   Manual: Positive, Auto: Neutral\n",
      "\n",
      "6. Tweet: Berdasarkan survei Litbang Kompas, tingkat kepuasan publik terhadap kinerja 100 hari pemerintahan Pr...\n",
      "   Manual: Positive, Auto: Negative\n",
      "\n",
      "7. Tweet: Masyarakat kasih apresiasi gede buat kerja positif 100 hari Prabowo-Gibran #KinerjaPrabowoTerbukti...\n",
      "   Manual: Positive, Auto: Negative\n",
      "\n",
      "8. Tweet: Keberhasilan Menteri BUMN Erick Thohir di 100 hari kerja kabinet Prabowo membuktikan perannya yang v...\n",
      "   Manual: Positive, Auto: Negative\n",
      "\n",
      "9. Tweet: Mayoritas publik puas kinerja prabowo-gibran di 100 hari kerja https://t.co/wpfUCy45hQ...\n",
      "   Manual: Positive, Auto: Negative\n",
      "\n",
      "10. Tweet: Cerita 100 hari Prabowo-Gibran bikin masyarakat optimis sama kebijakan mereka #KinerjaPrabowoTerbukt...\n",
      "   Manual: Positive, Auto: Negative\n"
     ]
    }
   ],
   "source": [
    "# Create a sample of disagreements for manual review\n",
    "sample_size = min(10, len(disagreements))\n",
    "sample_disagreements = disagreements.sample(sample_size)\n",
    "print(f\"\\nSample of {sample_size} disagreements for review:\")\n",
    "for i, row in enumerate(sample_disagreements.itertuples(), 1):\n",
    "    print(f\"\\n{i}. Tweet: {row.text[:100]}...\")\n",
    "    print(f\"   Manual: {row.sentiment_manual}, Auto: {row.sentiment_auto}\")"
   ]
  },
  {
   "cell_type": "code",
   "execution_count": 32,
   "metadata": {},
   "outputs": [
    {
     "data": {
      "text/plain": [
       "<matplotlib.legend.Legend at 0x1e7c95851b0>"
      ]
     },
     "execution_count": 32,
     "metadata": {},
     "output_type": "execute_result"
    },
    {
     "data": {
      "image/png": "[encoded data removed]",
      "text/plain": [
       "<Figure size 1200x600 with 1 Axes>"
      ]
     },
     "metadata": {},
     "output_type": "display_data"
    }
   ],
   "source": [
    "# Visualize sentiment distribution comparison\n",
    "plt.figure(figsize=(12, 6))\n",
    "\n",
    "# Count sentiments in each dataset\n",
    "manual_counts = manual_df['sentiment'].value_counts().reindex(labels, fill_value=0)\n",
    "auto_counts = auto_df['sentiment'].value_counts().reindex(labels, fill_value=0)\n",
    "\n",
    "# Create grouped bar chart\n",
    "x = range(len(labels))\n",
    "width = 0.35\n",
    "plt.bar([i - width/2 for i in x], manual_counts, width, label='Manual Labeling')\n",
    "plt.bar([i + width/2 for i in x], auto_counts, width, label='Auto Labeling')\n",
    "\n",
    "plt.xlabel('Sentiment')\n",
    "plt.ylabel('Count')\n",
    "plt.title('Sentiment Distribution Comparison')\n",
    "plt.xticks(x, labels)\n",
    "plt.legend()"
   ]
  },
  {
   "cell_type": "code",
   "execution_count": null,
   "metadata": {},
   "outputs": [],
   "source": []
  }
 ],
 "metadata": {
  "kernelspec": {
   "display_name": "Python 3",
   "language": "python",
   "name": "python3"
  },
  "language_info": {
   "codemirror_mode": {
    "name": "ipython",
    "version": 3
   },
   "file_extension": ".py",
   "mimetype": "text/x-python",
   "name": "python",
   "nbconvert_exporter": "python",
   "pygments_lexer": "ipython3",
   "version": "3.10.16"
  }
 },
 "nbformat": 4,
 "nbformat_minor": 2
}
